{
 "cells": [
  {
   "cell_type": "markdown",
   "id": "54a38ec4",
   "metadata": {},
   "source": [
    "# 📊 Retention Analysis\n",
    "\n",
    "This notebook performs data cleaning and cohort-based retention analysis using simulated mobile app usage data."
   ]
  },
  {
   "cell_type": "markdown",
   "id": "bf9a09fb",
   "metadata": {},
   "source": [
    "## 📁 Step 1: Load Raw Data"
   ]
  },
  {
   "cell_type": "code",
   "execution_count": 4,
   "id": "9898f76f",
   "metadata": {},
   "outputs": [
    {
     "data": {
      "text/html": [
       "<div>\n",
       "<style scoped>\n",
       "    .dataframe tbody tr th:only-of-type {\n",
       "        vertical-align: middle;\n",
       "    }\n",
       "\n",
       "    .dataframe tbody tr th {\n",
       "        vertical-align: top;\n",
       "    }\n",
       "\n",
       "    .dataframe thead th {\n",
       "        text-align: right;\n",
       "    }\n",
       "</style>\n",
       "<table border=\"1\" class=\"dataframe\">\n",
       "  <thead>\n",
       "    <tr style=\"text-align: right;\">\n",
       "      <th></th>\n",
       "      <th>user_id</th>\n",
       "      <th>install_date</th>\n",
       "      <th>event_date</th>\n",
       "      <th>event_type</th>\n",
       "    </tr>\n",
       "  </thead>\n",
       "  <tbody>\n",
       "    <tr>\n",
       "      <th>0</th>\n",
       "      <td>U00001</td>\n",
       "      <td>2024-02-21</td>\n",
       "      <td>2024-03-04</td>\n",
       "      <td>app_open</td>\n",
       "    </tr>\n",
       "    <tr>\n",
       "      <th>1</th>\n",
       "      <td>U00001</td>\n",
       "      <td>2024-02-21</td>\n",
       "      <td>2024-02-28</td>\n",
       "      <td>app_open</td>\n",
       "    </tr>\n",
       "    <tr>\n",
       "      <th>2</th>\n",
       "      <td>U00001</td>\n",
       "      <td>2024-02-21</td>\n",
       "      <td>2024-03-14</td>\n",
       "      <td>app_open</td>\n",
       "    </tr>\n",
       "    <tr>\n",
       "      <th>3</th>\n",
       "      <td>U00002</td>\n",
       "      <td>2024-01-15</td>\n",
       "      <td>2024-01-28</td>\n",
       "      <td>app_open</td>\n",
       "    </tr>\n",
       "    <tr>\n",
       "      <th>4</th>\n",
       "      <td>U00003</td>\n",
       "      <td>2024-03-12</td>\n",
       "      <td>2024-03-30</td>\n",
       "      <td>app_open</td>\n",
       "    </tr>\n",
       "  </tbody>\n",
       "</table>\n",
       "</div>"
      ],
      "text/plain": [
       "  user_id install_date  event_date event_type\n",
       "0  U00001   2024-02-21  2024-03-04   app_open\n",
       "1  U00001   2024-02-21  2024-02-28   app_open\n",
       "2  U00001   2024-02-21  2024-03-14   app_open\n",
       "3  U00002   2024-01-15  2024-01-28   app_open\n",
       "4  U00003   2024-03-12  2024-03-30   app_open"
      ]
     },
     "execution_count": 4,
     "metadata": {},
     "output_type": "execute_result"
    }
   ],
   "source": [
    "import pandas as pd\n",
    "\n",
    "# Load the raw dataset\n",
    "raw_df = pd.read_csv(\"/Users/yoey_danjuma/mobile-app-retention-analysis/data/raw_user_events.csv\")\n",
    "raw_df.head()"
   ]
  },
  {
   "cell_type": "markdown",
   "id": "92a7eb16",
   "metadata": {},
   "source": [
    "## 🧹 Step 2: Data Cleaning & Transformation"
   ]
  },
  {
   "cell_type": "markdown",
   "id": "965fb995",
   "metadata": {},
   "source": [
    "### 🔸 2.1 Check the structure of the raw data"
   ]
  },
  {
   "cell_type": "code",
   "execution_count": null,
   "id": "45193397",
   "metadata": {},
   "outputs": [],
   "source": [
    "raw_df.info()\n",
    "raw_df.describe(include='all')\n",
    "raw_df.head()"
   ]
  },
  {
   "cell_type": "markdown",
   "id": "f5a2885d",
   "metadata": {},
   "source": [
    "### 🔸 2.2 Check for missing or duplicated data"
   ]
  },
  {
   "cell_type": "code",
   "execution_count": null,
   "id": "5fc218c9",
   "metadata": {},
   "outputs": [],
   "source": [
    "print(\"Missing values:\\n\", raw_df.isnull().sum())\n",
    "print(\"Duplicates:\", raw_df.duplicated().sum())"
   ]
  },
  {
   "cell_type": "markdown",
   "id": "3341ec1d",
   "metadata": {},
   "source": [
    "### 🔸 2.3 Convert date columns to datetime"
   ]
  },
  {
   "cell_type": "code",
   "execution_count": null,
   "id": "9df06ccc",
   "metadata": {},
   "outputs": [],
   "source": [
    "raw_df['install_date'] = pd.to_datetime(raw_df['install_date'])\n",
    "raw_df['event_date'] = pd.to_datetime(raw_df['event_date'])"
   ]
  },
  {
   "cell_type": "markdown",
   "id": "3010fc4f",
   "metadata": {},
   "source": [
    "### 🔸 2.4 Sanity check: No event before install"
   ]
  },
  {
   "cell_type": "code",
   "execution_count": null,
   "id": "552c3941",
   "metadata": {},
   "outputs": [],
   "source": [
    "invalid_events = raw_df[raw_df['event_date'] < raw_df['install_date']]\n",
    "print(f\"Invalid events found: {len(invalid_events)}\")"
   ]
  },
  {
   "cell_type": "markdown",
   "id": "1e7a16fd",
   "metadata": {},
   "source": [
    "### 🔸 2.5 Add `cohort_date`"
   ]
  },
  {
   "cell_type": "code",
   "execution_count": null,
   "id": "5ddbc85b",
   "metadata": {},
   "outputs": [],
   "source": [
    "raw_df['cohort_date'] = raw_df['install_date']"
   ]
  },
  {
   "cell_type": "markdown",
   "id": "2f52d5b5",
   "metadata": {},
   "source": [
    "### 🔸 2.6 Calculate `days_since_install`"
   ]
  },
  {
   "cell_type": "code",
   "execution_count": null,
   "id": "0c130c01",
   "metadata": {},
   "outputs": [],
   "source": [
    "raw_df['days_since_install'] = (raw_df['event_date'] - raw_df['install_date']).dt.days"
   ]
  },
  {
   "cell_type": "markdown",
   "id": "009efb99",
   "metadata": {},
   "source": [
    "### 🔸 2.7 Sort data by user and event date"
   ]
  },
  {
   "cell_type": "code",
   "execution_count": null,
   "id": "d51e16a1",
   "metadata": {},
   "outputs": [],
   "source": [
    "cleaned_df = raw_df.sort_values(by=['user_id', 'event_date'])\n",
    "cleaned_df.head()"
   ]
  },
  {
   "cell_type": "markdown",
   "id": "6580172f",
   "metadata": {},
   "source": [
    "### 🔸 2.8 Save cleaned data"
   ]
  },
  {
   "cell_type": "code",
   "execution_count": null,
   "id": "13ea4bbe",
   "metadata": {},
   "outputs": [],
   "source": [
    "cleaned_df.to_csv('data/cleaned_retention_data.csv', index=False)\n",
    "print('Cleaned data saved.')"
   ]
  }
 ],
 "metadata": {
  "kernelspec": {
   "display_name": "Python [conda env:base] *",
   "language": "python",
   "name": "conda-base-py"
  },
  "language_info": {
   "codemirror_mode": {
    "name": "ipython",
    "version": 3
   },
   "file_extension": ".py",
   "mimetype": "text/x-python",
   "name": "python",
   "nbconvert_exporter": "python",
   "pygments_lexer": "ipython3",
   "version": "3.13.5"
  }
 },
 "nbformat": 4,
 "nbformat_minor": 5
}
